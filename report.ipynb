{
 "cells": [
  {
   "cell_type": "markdown",
   "metadata": {
    "collapsed": true
   },
   "source": [
    "# Wrangle OpenStreetMap Data with SQL\n",
    "\n",
    "The objective of this study is to practice data wrangling skills on xml data format, specifically, xml created by OpenStreetMap organization. \n",
    "\n",
    "The major processes of this data wrangling practice include four steps:\n",
    "* Step 1: Data Preview\n",
    "* Step 2: Data Audit\n",
    "* Step 3: Data Cleaning\n",
    "* Step 4: Data Query by SQL\n",
    "\n",
    "\n",
    "\n"
   ]
  },
  {
   "cell_type": "markdown",
   "metadata": {},
   "source": [
    "## 1. Study Area\n",
    "\n",
    "My study area is Hong Kong, located in Southern China, famous for its international financial significance, as well as the unique blend of British and Chinese history.\n",
    "\n",
    "Hong Kong became a British colony after the First Opium War (1839-1842), and not until 1997, Hong Kong was returned to China \n",
    "as a Special Administrative Region. Due to this fact, Hong Kong has a very interesting mixture language usage: two written language systems- English and Traditional Chinese; and three spoken languages - English, Cantonese and Mandarin. \n",
    "\n",
    "This is also the main reason I selected this city as my study area,  the rich potential of data auditing and cleaning oppotunities due to multi-language context. \n",
    "\n",
    "\n",
    "Source Link to download Hong Kong OSM:\n",
    "* MapZen (https://mapzen.com/data/metro-extracts/metro/hong-kong_china/)\n"
   ]
  },
  {
   "cell_type": "markdown",
   "metadata": {},
   "source": [
    "## 2. Data Wrangling Challenges \n",
    "\n",
    "\n",
    "\n",
    "* audit.py should be able to clean some of the problems encounted"
   ]
  },
  {
   "cell_type": "markdown",
   "metadata": {},
   "source": [
    "### 2.1 The process of auditing\n",
    "\n"
   ]
  },
  {
   "cell_type": "code",
   "execution_count": null,
   "metadata": {
    "collapsed": true
   },
   "outputs": [],
   "source": [
    "import xml.etree.cElementTree as ET\n",
    "from collections import defaultdict\n",
    "from collections import Counter\n",
    "import re\n",
    "import pprint\n",
    "\n",
    "OSMFILE='sample.osm'"
   ]
  },
  {
   "cell_type": "code",
   "execution_count": null,
   "metadata": {
    "collapsed": true
   },
   "outputs": [],
   "source": [
    "# Step 1: Iterative parsing xml file and count top-level tags\n",
    "import iter_parsing\n",
    "iter_parsing.count_tags(OSMFILE)"
   ]
  },
  {
   "cell_type": "code",
   "execution_count": null,
   "metadata": {
    "collapsed": true
   },
   "outputs": [],
   "source": [
    "# Top 10 k_tag for Node elements\n",
    "k_types=[]\n",
    "for event,elem in ET.iterparse(OSMFILE):\n",
    "    if elem.tag=='node':\n",
    "        for child in elem.iter(\"tag\"):\n",
    "            k_types.append(child.attrib['k'])\n",
    "Counter(k_types).most_common(15)"
   ]
  },
  {
   "cell_type": "code",
   "execution_count": null,
   "metadata": {
    "collapsed": true
   },
   "outputs": [],
   "source": [
    "# Top 10 k_tag for Way elements\n",
    "k_types=[]\n",
    "for event,elem in ET.iterparse(OSMFILE):\n",
    "    if elem.tag=='way':\n",
    "        for child in elem.iter(\"tag\"):\n",
    "            k_types.append(child.attrib['k'])\n",
    "Counter(k_types).most_common(10)"
   ]
  },
  {
   "cell_type": "code",
   "execution_count": null,
   "metadata": {
    "collapsed": true
   },
   "outputs": [],
   "source": [
    "addrst=[]\n",
    "for event,elem in ET.iterparse(OSMFILE):\n",
    "    if elem.tag=='way':\n",
    "        for child in elem.iter(\"tag\"):\n",
    "            if child.attrib['k']=='addr:street':\n",
    "                addrst.append(child.attrib['v'])\n",
    "\n",
    "c=Counter(addrst)\n",
    "sum(c.values())"
   ]
  },
  {
   "cell_type": "code",
   "execution_count": null,
   "metadata": {
    "collapsed": true
   },
   "outputs": [],
   "source": [
    "# Top 16 k_tag for Way elements\n",
    "k_types=[]\n",
    "for event,elem in ET.iterparse(OSMFILE):\n",
    "    if elem.tag=='way':\n",
    "        for child in elem.iter(\"tag\"):\n",
    "            k_types.append(child.attrib['k'])\n",
    "Counter(k_types).most_common(16)"
   ]
  },
  {
   "cell_type": "code",
   "execution_count": null,
   "metadata": {
    "collapsed": true
   },
   "outputs": [],
   "source": [
    "k_types=[]\n",
    "for event,elem in ET.iterparse(OSMFILE):\n",
    "    if elem.tag=='way':\n",
    "        for child in elem.iter(\"tag\"):\n",
    "            k_types.append(child.attrib['k'])\n",
    "c=Counter(k_types)\n",
    "lst=c.most_common(10)\n",
    "total=sum(c.values())\n",
    "dictlist=dict(lst)\n",
    "#lst\n",
    "pct={}\n",
    "for key in dictlist.keys():\n",
    "    \n",
    "    pct_val=dictlist[key]/total*100\n",
    "    pct[key]=(pct_val)\n",
    "sum(pct.values())"
   ]
  },
  {
   "cell_type": "code",
   "execution_count": 1,
   "metadata": {
    "collapsed": false
   },
   "outputs": [
    {
     "ename": "NameError",
     "evalue": "name 'c' is not defined",
     "output_type": "error",
     "traceback": [
      "\u001b[0;31m---------------------------------------------------------------------------\u001b[0m",
      "\u001b[0;31mNameError\u001b[0m                                 Traceback (most recent call last)",
      "\u001b[0;32m<ipython-input-1-a0c42c6df947>\u001b[0m in \u001b[0;36m<module>\u001b[0;34m()\u001b[0m\n\u001b[0;32m----> 1\u001b[0;31m \u001b[0msum\u001b[0m\u001b[1;33m(\u001b[0m\u001b[0mc\u001b[0m\u001b[1;33m.\u001b[0m\u001b[0mvalues\u001b[0m\u001b[1;33m(\u001b[0m\u001b[1;33m)\u001b[0m\u001b[1;33m)\u001b[0m\u001b[1;33m\u001b[0m\u001b[0m\n\u001b[0m",
      "\u001b[0;31mNameError\u001b[0m: name 'c' is not defined"
     ]
    }
   ],
   "source": [
    "sum(c.values())"
   ]
  },
  {
   "cell_type": "code",
   "execution_count": null,
   "metadata": {
    "collapsed": true
   },
   "outputs": [],
   "source": [
    "# Audit city\n",
    "city_list = set()\n",
    "for event, elem in ET.iterparse(OSMFILE):\n",
    "    if elem.tag == \"node\" or elem.tag == \"way\":\n",
    "        for tag in elem.iter(\"tag\"):\n",
    "            if tag.attrib['k'] == \"addr:city\" or tag.attrib['k']==\"cityname\":\n",
    "                city_list.add(tag.attrib['v'])\n",
    "city_list"
   ]
  },
  {
   "cell_type": "code",
   "execution_count": null,
   "metadata": {
    "collapsed": true
   },
   "outputs": [],
   "source": [
    "PROBLEMCHARS = re.compile(r'[=\\+/&<>;\\'\"\\?%#$@\\,\\. \\t\\r\\n]')\n",
    "# Handle secondary tags\n",
    "tags=[]\n",
    "\n",
    "for event, elem in ET.iterparse(OSMFILE):\n",
    "    if elem.tag=='node':\n",
    "        for tag in elem.iter('tag'):\n",
    "            tag_dict=defaultdict()\n",
    "            kstring= tag.attrib['k']\n",
    "            if PROBLEMCHARS.search(kstring):\n",
    "                continue\n",
    "            else:\n",
    "                tag_dict['id']=elem.attrib['id']\n",
    "                if ':' in kstring:\n",
    "                    split=kstring.split(':',1)\n",
    "                    tag_dict['type']=split[0]\n",
    "                    tag_dict['key']=split[1]\n",
    "                else:\n",
    "                    tag_dict['type']='regular'\n",
    "                    tag_dict['key']=kstring\n",
    "                tag_dict['value']=tag.attrib['v']\n",
    "            tags.append(tag_dict)\n",
    "\n",
    "Counter(tags).most_common(10)"
   ]
  },
  {
   "cell_type": "code",
   "execution_count": null,
   "metadata": {
    "collapsed": true
   },
   "outputs": [],
   "source": [
    "# Audit phone\n",
    "phone_list = []\n",
    "for event, elem in ET.iterparse(OSMFILE):\n",
    "    if elem.tag == \"node\" or elem.tag == \"way\":\n",
    "        for tag in elem.iter(\"tag\"):\n",
    "            if tag.attrib['k'] == \"phone\":\n",
    "                phone_list.append(tag.attrib['v'])\n",
    "phone_list"
   ]
  },
  {
   "cell_type": "code",
   "execution_count": null,
   "metadata": {
    "collapsed": true
   },
   "outputs": [],
   "source": [
    "# Step 2: Count tag types\n",
    "import Tag_types\n",
    "Tag_types.process_map(OSMFILE)"
   ]
  },
  {
   "cell_type": "code",
   "execution_count": null,
   "metadata": {
    "collapsed": true
   },
   "outputs": [],
   "source": [
    "# Step 3: Users\n",
    "import Users\n",
    "users = Users.process_map(OSMFILE)\n",
    "len(users)"
   ]
  },
  {
   "cell_type": "code",
   "execution_count": null,
   "metadata": {
    "collapsed": true
   },
   "outputs": [],
   "source": [
    "# Step 4: Audit Street types\n",
    "\n",
    "import Audit\n",
    "Audit.audit(OSMFILE)"
   ]
  },
  {
   "cell_type": "code",
   "execution_count": null,
   "metadata": {
    "collapsed": true
   },
   "outputs": [],
   "source": [
    "import xml.etree.cElementTree as ET\n",
    "from collections import defaultdict\n",
    "import re\n",
    "import pprint\n",
    "\n",
    "for event,elem in ET.iterparse(OSMFILE):\n",
    "    if elem.tag=='node':\n",
    "        for child in elem:\n",
    "            if child.attrib['k']=='name':\n",
    "                if re.search(u'路', child.attrib['v']):\n",
    "                    \n",
    "                    print(child.attrib['v'])"
   ]
  },
  {
   "cell_type": "markdown",
   "metadata": {},
   "source": [
    "### 2.2 Ways to correct or standardize data"
   ]
  },
  {
   "cell_type": "code",
   "execution_count": null,
   "metadata": {
    "collapsed": true
   },
   "outputs": [],
   "source": [
    "# re_chinese_st.py\n",
    "\n",
    "# regular expression\n",
    "\n",
    "import re\n",
    "string = u'油画路 polyline road'\n",
    "pattern = re.compile(u'[路道径]')\n",
    "m=pattern.search(string)\n",
    "if m:\n",
    "    street_ch=m.group()\n",
    "    print(street_ch)\n",
    "\n",
    "#----------\n",
    "street_type_eng=re.compile(r'\\b\\S+\\.?$', re.I)\n",
    "expected_eng = [\"Street\", \"Avenue\"]\n",
    "\n",
    "street_type_ch=re.compile(ur'[\\u4e00-\\u9fff]+')\n",
    "expected_ch=[u\"路\", u\"道\", u\"径\"]\n",
    "\n",
    "street_name = \"还旁路\"\n",
    "\n",
    "def audit_street_ch(street_types, street_name):\n",
    "\tm=street_type_ch.search(street_name)\n",
    "\tif m:\n",
    "\t\tstreet_type = m.group()\n",
    "\t\tif street_type not in expected:\n",
    "\t\t\tstreet_type[street_type].add(street_name)\n",
    "\treturn street_type"
   ]
  },
  {
   "cell_type": "markdown",
   "metadata": {},
   "source": [
    "## 3. Data Overview\n",
    "* Statistical overview of the dataset:\n",
    "   - Size of the file: \n",
    "       - raw OpenStreetMap XML size 46mb\n",
    "       - uncompressed 1.1gb\n",
    "   - thoughts: xml is a very efficient to store data\n",
    "* Number of unique users\n",
    "* Number of nodes and ways\n",
    "* Number of chosen types of nodes:cafes, shops\n",
    "\n",
    "* Apply SQL query to more than one table"
   ]
  },
  {
   "cell_type": "markdown",
   "metadata": {},
   "source": [
    "## 4. Other ideas\n",
    "* Suggestions to improve and analyze data:\n",
    "   - suggestion 1\n",
    "   - suggestion 2: how to query suggestion 2\n",
    "* Benefits & Problems in implementing improvements\n",
    "   "
   ]
  },
  {
   "cell_type": "markdown",
   "metadata": {},
   "source": [
    "## 5. Reference\n",
    "* Websites\n",
    "* Github\n",
    "* Blog posts"
   ]
  },
  {
   "cell_type": "code",
   "execution_count": null,
   "metadata": {
    "collapsed": true
   },
   "outputs": [],
   "source": []
  }
 ],
 "metadata": {
  "anaconda-cloud": {},
  "kernelspec": {
   "display_name": "Python [conda root]",
   "language": "python",
   "name": "conda-root-py"
  },
  "language_info": {
   "codemirror_mode": {
    "name": "ipython",
    "version": 3
   },
   "file_extension": ".py",
   "mimetype": "text/x-python",
   "name": "python",
   "nbconvert_exporter": "python",
   "pygments_lexer": "ipython3",
   "version": "3.5.2"
  }
 },
 "nbformat": 4,
 "nbformat_minor": 1
}
